{
 "cells": [
  {
   "cell_type": "markdown",
   "id": "13a39bae",
   "metadata": {},
   "source": [
    "#  Project: Diabetes Prediction"
   ]
  },
  {
   "cell_type": "code",
   "execution_count": 2,
   "id": "45f13a82",
   "metadata": {},
   "outputs": [],
   "source": [
    "import numpy as np\n",
    "import pandas as pd\n",
    "import matplotlib.pyplot as plt\n",
    "import seaborn as sns\n",
    "from sklearn.preprocessing import StandardScaler\n",
    "from sklearn.model_selection import train_test_split\n",
    "from sklearn import svm\n",
    "from sklearn.metrics import accuracy_score"
   ]
  },
  {
   "cell_type": "markdown",
   "id": "bbb300b2",
   "metadata": {},
   "source": [
    "# Data Collection & Analysis"
   ]
  },
  {
   "cell_type": "code",
   "execution_count": 3,
   "id": "a618d9c4",
   "metadata": {},
   "outputs": [],
   "source": [
    " #loading the diabetes dataset to a pandas DataFrame\n",
    "diabetes_dataset = pd.read_csv('diabetes.csv') "
   ]
  },
  {
   "cell_type": "code",
   "execution_count": 4,
   "id": "e23cdd5a",
   "metadata": {},
   "outputs": [
    {
     "data": {
      "text/html": [
       "<div>\n",
       "<style scoped>\n",
       "    .dataframe tbody tr th:only-of-type {\n",
       "        vertical-align: middle;\n",
       "    }\n",
       "\n",
       "    .dataframe tbody tr th {\n",
       "        vertical-align: top;\n",
       "    }\n",
       "\n",
       "    .dataframe thead th {\n",
       "        text-align: right;\n",
       "    }\n",
       "</style>\n",
       "<table border=\"1\" class=\"dataframe\">\n",
       "  <thead>\n",
       "    <tr style=\"text-align: right;\">\n",
       "      <th></th>\n",
       "      <th>Pregnancies</th>\n",
       "      <th>Glucose</th>\n",
       "      <th>BloodPressure</th>\n",
       "      <th>SkinThickness</th>\n",
       "      <th>Insulin</th>\n",
       "      <th>BMI</th>\n",
       "      <th>DiabetesPedigreeFunction</th>\n",
       "      <th>Age</th>\n",
       "      <th>Outcome</th>\n",
       "    </tr>\n",
       "  </thead>\n",
       "  <tbody>\n",
       "    <tr>\n",
       "      <th>0</th>\n",
       "      <td>6</td>\n",
       "      <td>148</td>\n",
       "      <td>72</td>\n",
       "      <td>35</td>\n",
       "      <td>0</td>\n",
       "      <td>33.6</td>\n",
       "      <td>0.627</td>\n",
       "      <td>50</td>\n",
       "      <td>1</td>\n",
       "    </tr>\n",
       "    <tr>\n",
       "      <th>1</th>\n",
       "      <td>1</td>\n",
       "      <td>85</td>\n",
       "      <td>66</td>\n",
       "      <td>29</td>\n",
       "      <td>0</td>\n",
       "      <td>26.6</td>\n",
       "      <td>0.351</td>\n",
       "      <td>31</td>\n",
       "      <td>0</td>\n",
       "    </tr>\n",
       "    <tr>\n",
       "      <th>2</th>\n",
       "      <td>8</td>\n",
       "      <td>183</td>\n",
       "      <td>64</td>\n",
       "      <td>0</td>\n",
       "      <td>0</td>\n",
       "      <td>23.3</td>\n",
       "      <td>0.672</td>\n",
       "      <td>32</td>\n",
       "      <td>1</td>\n",
       "    </tr>\n",
       "    <tr>\n",
       "      <th>3</th>\n",
       "      <td>1</td>\n",
       "      <td>89</td>\n",
       "      <td>66</td>\n",
       "      <td>23</td>\n",
       "      <td>94</td>\n",
       "      <td>28.1</td>\n",
       "      <td>0.167</td>\n",
       "      <td>21</td>\n",
       "      <td>0</td>\n",
       "    </tr>\n",
       "    <tr>\n",
       "      <th>4</th>\n",
       "      <td>0</td>\n",
       "      <td>137</td>\n",
       "      <td>40</td>\n",
       "      <td>35</td>\n",
       "      <td>168</td>\n",
       "      <td>43.1</td>\n",
       "      <td>2.288</td>\n",
       "      <td>33</td>\n",
       "      <td>1</td>\n",
       "    </tr>\n",
       "  </tbody>\n",
       "</table>\n",
       "</div>"
      ],
      "text/plain": [
       "   Pregnancies  Glucose  BloodPressure  SkinThickness  Insulin   BMI  \\\n",
       "0            6      148             72             35        0  33.6   \n",
       "1            1       85             66             29        0  26.6   \n",
       "2            8      183             64              0        0  23.3   \n",
       "3            1       89             66             23       94  28.1   \n",
       "4            0      137             40             35      168  43.1   \n",
       "\n",
       "   DiabetesPedigreeFunction  Age  Outcome  \n",
       "0                     0.627   50        1  \n",
       "1                     0.351   31        0  \n",
       "2                     0.672   32        1  \n",
       "3                     0.167   21        0  \n",
       "4                     2.288   33        1  "
      ]
     },
     "execution_count": 4,
     "metadata": {},
     "output_type": "execute_result"
    }
   ],
   "source": [
    "# printing the first 5 rows of the dataset\n",
    "diabetes_dataset.head(5)"
   ]
  },
  {
   "cell_type": "code",
   "execution_count": 5,
   "id": "26d89894",
   "metadata": {},
   "outputs": [
    {
     "data": {
      "text/plain": [
       "(768, 9)"
      ]
     },
     "execution_count": 5,
     "metadata": {},
     "output_type": "execute_result"
    }
   ],
   "source": [
    "# number of rows and Columns in this dataset\n",
    "diabetes_dataset.shape"
   ]
  },
  {
   "cell_type": "code",
   "execution_count": 6,
   "id": "4d620803",
   "metadata": {},
   "outputs": [
    {
     "data": {
      "text/plain": [
       "Outcome\n",
       "0    500\n",
       "1    268\n",
       "dtype: int64"
      ]
     },
     "execution_count": 6,
     "metadata": {},
     "output_type": "execute_result"
    }
   ],
   "source": [
    "#Frequency distribution of Outcome variable\n",
    "#Number of instances(rows) that belong to each class\n",
    "#Size() is used for displaying number of rows associated with each value of target variable\n",
    "diabetes_dataset.groupby('Outcome').size()"
   ]
  },
  {
   "cell_type": "code",
   "execution_count": 7,
   "id": "122652be",
   "metadata": {},
   "outputs": [
    {
     "data": {
      "text/plain": [
       "Outcome\n",
       "0    500\n",
       "1    268\n",
       "Name: count, dtype: int64"
      ]
     },
     "execution_count": 7,
     "metadata": {},
     "output_type": "execute_result"
    }
   ],
   "source": [
    "#Display the count of unique values in Outcome\n",
    "diabetes_dataset['Outcome'].value_counts()"
   ]
  },
  {
   "cell_type": "markdown",
   "id": "57365b28",
   "metadata": {},
   "source": [
    "0--> Non-Diabetic people\n"
   ]
  },
  {
   "cell_type": "markdown",
   "id": "291572eb",
   "metadata": {},
   "source": [
    "1--> Diabetic people"
   ]
  },
  {
   "cell_type": "code",
   "execution_count": 8,
   "id": "a39b229d",
   "metadata": {},
   "outputs": [
    {
     "data": {
      "text/html": [
       "<div>\n",
       "<style scoped>\n",
       "    .dataframe tbody tr th:only-of-type {\n",
       "        vertical-align: middle;\n",
       "    }\n",
       "\n",
       "    .dataframe tbody tr th {\n",
       "        vertical-align: top;\n",
       "    }\n",
       "\n",
       "    .dataframe thead th {\n",
       "        text-align: right;\n",
       "    }\n",
       "</style>\n",
       "<table border=\"1\" class=\"dataframe\">\n",
       "  <thead>\n",
       "    <tr style=\"text-align: right;\">\n",
       "      <th></th>\n",
       "      <th>Pregnancies</th>\n",
       "      <th>Glucose</th>\n",
       "      <th>BloodPressure</th>\n",
       "      <th>SkinThickness</th>\n",
       "      <th>Insulin</th>\n",
       "      <th>BMI</th>\n",
       "      <th>DiabetesPedigreeFunction</th>\n",
       "      <th>Age</th>\n",
       "    </tr>\n",
       "    <tr>\n",
       "      <th>Outcome</th>\n",
       "      <th></th>\n",
       "      <th></th>\n",
       "      <th></th>\n",
       "      <th></th>\n",
       "      <th></th>\n",
       "      <th></th>\n",
       "      <th></th>\n",
       "      <th></th>\n",
       "    </tr>\n",
       "  </thead>\n",
       "  <tbody>\n",
       "    <tr>\n",
       "      <th>0</th>\n",
       "      <td>3.298000</td>\n",
       "      <td>109.980000</td>\n",
       "      <td>68.184000</td>\n",
       "      <td>19.664000</td>\n",
       "      <td>68.792000</td>\n",
       "      <td>30.304200</td>\n",
       "      <td>0.429734</td>\n",
       "      <td>31.190000</td>\n",
       "    </tr>\n",
       "    <tr>\n",
       "      <th>1</th>\n",
       "      <td>4.865672</td>\n",
       "      <td>141.257463</td>\n",
       "      <td>70.824627</td>\n",
       "      <td>22.164179</td>\n",
       "      <td>100.335821</td>\n",
       "      <td>35.142537</td>\n",
       "      <td>0.550500</td>\n",
       "      <td>37.067164</td>\n",
       "    </tr>\n",
       "  </tbody>\n",
       "</table>\n",
       "</div>"
      ],
      "text/plain": [
       "         Pregnancies     Glucose  BloodPressure  SkinThickness     Insulin  \\\n",
       "Outcome                                                                      \n",
       "0           3.298000  109.980000      68.184000      19.664000   68.792000   \n",
       "1           4.865672  141.257463      70.824627      22.164179  100.335821   \n",
       "\n",
       "               BMI  DiabetesPedigreeFunction        Age  \n",
       "Outcome                                                  \n",
       "0        30.304200                  0.429734  31.190000  \n",
       "1        35.142537                  0.550500  37.067164  "
      ]
     },
     "execution_count": 8,
     "metadata": {},
     "output_type": "execute_result"
    }
   ],
   "source": [
    "#mean value for outcome\n",
    "diabetes_dataset.groupby(\"Outcome\").mean()"
   ]
  },
  {
   "cell_type": "code",
   "execution_count": 9,
   "id": "e2a88a60",
   "metadata": {},
   "outputs": [
    {
     "data": {
      "text/plain": [
       "<function matplotlib.pyplot.show(close=None, block=None)>"
      ]
     },
     "execution_count": 9,
     "metadata": {},
     "output_type": "execute_result"
    },
    {
     "data": {
      "image/png": "[encoded data removed]",
      "text/plain": [
       "<Figure size 800x600 with 1 Axes>"
      ]
     },
     "metadata": {},
     "output_type": "display_data"
    }
   ],
   "source": [
    "#Visualizing the frequency distribution\n",
    "f, ax = plt.subplots(figsize=(8,6))\n",
    "ax = sns.countplot(x=\"Outcome\", data=diabetes_dataset)\n",
    "plt.show\n"
   ]
  },
  {
   "cell_type": "code",
   "execution_count": 10,
   "id": "18bde8bb",
   "metadata": {},
   "outputs": [
    {
     "data": {
      "text/plain": [
       "Pregnancies  Outcome\n",
       "0            0           73\n",
       "             1           38\n",
       "1            0          106\n",
       "             1           29\n",
       "2            0           84\n",
       "             1           19\n",
       "3            0           48\n",
       "             1           27\n",
       "4            0           45\n",
       "             1           23\n",
       "5            0           36\n",
       "             1           21\n",
       "6            0           34\n",
       "             1           16\n",
       "7            1           25\n",
       "             0           20\n",
       "8            1           22\n",
       "             0           16\n",
       "9            1           18\n",
       "             0           10\n",
       "10           0           14\n",
       "             1           10\n",
       "11           1            7\n",
       "             0            4\n",
       "12           0            5\n",
       "             1            4\n",
       "13           0            5\n",
       "             1            5\n",
       "14           1            2\n",
       "15           1            1\n",
       "17           1            1\n",
       "Name: count, dtype: int64"
      ]
     },
     "execution_count": 10,
     "metadata": {},
     "output_type": "execute_result"
    }
   ],
   "source": [
    "#Frequency distribution of target variable w.r.t different features\n",
    "#Frequency distribution of target variable w.r.t pregnancies feature\n",
    "#How many males and females are with diabetes and without diabetes\n",
    "diabetes_dataset.groupby('Pregnancies')['Outcome'].value_counts()"
   ]
  },
  {
   "cell_type": "code",
   "execution_count": 11,
   "id": "59f541e4",
   "metadata": {},
   "outputs": [
    {
     "data": {
      "image/png": "[encoded data removed]",
      "text/plain": [
       "<Figure size 800x600 with 1 Axes>"
      ]
     },
     "metadata": {},
     "output_type": "display_data"
    }
   ],
   "source": [
    "#Visualizing count of the 'Pregnencies' variable w.r.t target\n",
    "f, ax = plt.subplots(figsize=(8,6))\n",
    "ax = sns.countplot(x=\"Pregnancies\", hue=\"Outcome\", data= diabetes_dataset)\n",
    "plt.show()\n"
   ]
  },
  {
   "cell_type": "code",
   "execution_count": 12,
   "id": "5752d6e8",
   "metadata": {},
   "outputs": [],
   "source": [
    "#Another way\n",
    "#ax = sns.catplot(x=\"Outcome\", col=\"Pregnancies\", data=diabetes_dataset, kind=\"count\", height=5, aspect=1)"
   ]
  },
  {
   "cell_type": "markdown",
   "id": "f2abc156",
   "metadata": {},
   "source": [
    "# Findings of the univariate analysis \n"
   ]
  },
  {
   "cell_type": "code",
   "execution_count": 13,
   "id": "e6641e56",
   "metadata": {},
   "outputs": [
    {
     "data": {
      "text/html": [
       "<div>\n",
       "<style scoped>\n",
       "    .dataframe tbody tr th:only-of-type {\n",
       "        vertical-align: middle;\n",
       "    }\n",
       "\n",
       "    .dataframe tbody tr th {\n",
       "        vertical-align: top;\n",
       "    }\n",
       "\n",
       "    .dataframe thead th {\n",
       "        text-align: right;\n",
       "    }\n",
       "</style>\n",
       "<table border=\"1\" class=\"dataframe\">\n",
       "  <thead>\n",
       "    <tr style=\"text-align: right;\">\n",
       "      <th></th>\n",
       "      <th>Pregnancies</th>\n",
       "      <th>Glucose</th>\n",
       "      <th>BloodPressure</th>\n",
       "      <th>SkinThickness</th>\n",
       "      <th>Insulin</th>\n",
       "      <th>BMI</th>\n",
       "      <th>DiabetesPedigreeFunction</th>\n",
       "      <th>Age</th>\n",
       "      <th>Outcome</th>\n",
       "    </tr>\n",
       "  </thead>\n",
       "  <tbody>\n",
       "    <tr>\n",
       "      <th>count</th>\n",
       "      <td>768.000000</td>\n",
       "      <td>768.000000</td>\n",
       "      <td>768.000000</td>\n",
       "      <td>768.000000</td>\n",
       "      <td>768.000000</td>\n",
       "      <td>768.000000</td>\n",
       "      <td>768.000000</td>\n",
       "      <td>768.000000</td>\n",
       "      <td>768.000000</td>\n",
       "    </tr>\n",
       "    <tr>\n",
       "      <th>mean</th>\n",
       "      <td>3.845052</td>\n",
       "      <td>120.894531</td>\n",
       "      <td>69.105469</td>\n",
       "      <td>20.536458</td>\n",
       "      <td>79.799479</td>\n",
       "      <td>31.992578</td>\n",
       "      <td>0.471876</td>\n",
       "      <td>33.240885</td>\n",
       "      <td>0.348958</td>\n",
       "    </tr>\n",
       "    <tr>\n",
       "      <th>std</th>\n",
       "      <td>3.369578</td>\n",
       "      <td>31.972618</td>\n",
       "      <td>19.355807</td>\n",
       "      <td>15.952218</td>\n",
       "      <td>115.244002</td>\n",
       "      <td>7.884160</td>\n",
       "      <td>0.331329</td>\n",
       "      <td>11.760232</td>\n",
       "      <td>0.476951</td>\n",
       "    </tr>\n",
       "    <tr>\n",
       "      <th>min</th>\n",
       "      <td>0.000000</td>\n",
       "      <td>0.000000</td>\n",
       "      <td>0.000000</td>\n",
       "      <td>0.000000</td>\n",
       "      <td>0.000000</td>\n",
       "      <td>0.000000</td>\n",
       "      <td>0.078000</td>\n",
       "      <td>21.000000</td>\n",
       "      <td>0.000000</td>\n",
       "    </tr>\n",
       "    <tr>\n",
       "      <th>25%</th>\n",
       "      <td>1.000000</td>\n",
       "      <td>99.000000</td>\n",
       "      <td>62.000000</td>\n",
       "      <td>0.000000</td>\n",
       "      <td>0.000000</td>\n",
       "      <td>27.300000</td>\n",
       "      <td>0.243750</td>\n",
       "      <td>24.000000</td>\n",
       "      <td>0.000000</td>\n",
       "    </tr>\n",
       "    <tr>\n",
       "      <th>50%</th>\n",
       "      <td>3.000000</td>\n",
       "      <td>117.000000</td>\n",
       "      <td>72.000000</td>\n",
       "      <td>23.000000</td>\n",
       "      <td>30.500000</td>\n",
       "      <td>32.000000</td>\n",
       "      <td>0.372500</td>\n",
       "      <td>29.000000</td>\n",
       "      <td>0.000000</td>\n",
       "    </tr>\n",
       "    <tr>\n",
       "      <th>75%</th>\n",
       "      <td>6.000000</td>\n",
       "      <td>140.250000</td>\n",
       "      <td>80.000000</td>\n",
       "      <td>32.000000</td>\n",
       "      <td>127.250000</td>\n",
       "      <td>36.600000</td>\n",
       "      <td>0.626250</td>\n",
       "      <td>41.000000</td>\n",
       "      <td>1.000000</td>\n",
       "    </tr>\n",
       "    <tr>\n",
       "      <th>max</th>\n",
       "      <td>17.000000</td>\n",
       "      <td>199.000000</td>\n",
       "      <td>122.000000</td>\n",
       "      <td>99.000000</td>\n",
       "      <td>846.000000</td>\n",
       "      <td>67.100000</td>\n",
       "      <td>2.420000</td>\n",
       "      <td>81.000000</td>\n",
       "      <td>1.000000</td>\n",
       "    </tr>\n",
       "  </tbody>\n",
       "</table>\n",
       "</div>"
      ],
      "text/plain": [
       "       Pregnancies     Glucose  BloodPressure  SkinThickness     Insulin  \\\n",
       "count   768.000000  768.000000     768.000000     768.000000  768.000000   \n",
       "mean      3.845052  120.894531      69.105469      20.536458   79.799479   \n",
       "std       3.369578   31.972618      19.355807      15.952218  115.244002   \n",
       "min       0.000000    0.000000       0.000000       0.000000    0.000000   \n",
       "25%       1.000000   99.000000      62.000000       0.000000    0.000000   \n",
       "50%       3.000000  117.000000      72.000000      23.000000   30.500000   \n",
       "75%       6.000000  140.250000      80.000000      32.000000  127.250000   \n",
       "max      17.000000  199.000000     122.000000      99.000000  846.000000   \n",
       "\n",
       "              BMI  DiabetesPedigreeFunction         Age     Outcome  \n",
       "count  768.000000                768.000000  768.000000  768.000000  \n",
       "mean    31.992578                  0.471876   33.240885    0.348958  \n",
       "std      7.884160                  0.331329   11.760232    0.476951  \n",
       "min      0.000000                  0.078000   21.000000    0.000000  \n",
       "25%     27.300000                  0.243750   24.000000    0.000000  \n",
       "50%     32.000000                  0.372500   29.000000    0.000000  \n",
       "75%     36.600000                  0.626250   41.000000    1.000000  \n",
       "max     67.100000                  2.420000   81.000000    1.000000  "
      ]
     },
     "execution_count": 13,
     "metadata": {},
     "output_type": "execute_result"
    }
   ],
   "source": [
    "# getting the statistical measures of the data\n",
    "diabetes_dataset.describe()"
   ]
  },
  {
   "cell_type": "code",
   "execution_count": 14,
   "id": "677f9dec",
   "metadata": {},
   "outputs": [
    {
     "name": "stdout",
     "output_type": "stream",
     "text": [
      "<class 'pandas.core.frame.DataFrame'>\n",
      "RangeIndex: 768 entries, 0 to 767\n",
      "Data columns (total 9 columns):\n",
      " #   Column                    Non-Null Count  Dtype  \n",
      "---  ------                    --------------  -----  \n",
      " 0   Pregnancies               768 non-null    int64  \n",
      " 1   Glucose                   768 non-null    int64  \n",
      " 2   BloodPressure             768 non-null    int64  \n",
      " 3   SkinThickness             768 non-null    int64  \n",
      " 4   Insulin                   768 non-null    int64  \n",
      " 5   BMI                       768 non-null    float64\n",
      " 6   DiabetesPedigreeFunction  768 non-null    float64\n",
      " 7   Age                       768 non-null    int64  \n",
      " 8   Outcome                   768 non-null    int64  \n",
      "dtypes: float64(2), int64(7)\n",
      "memory usage: 54.1 KB\n"
     ]
    }
   ],
   "source": [
    "# getting information about features and their datatypes\n",
    "diabetes_dataset.info()\n"
   ]
  },
  {
   "cell_type": "code",
   "execution_count": 15,
   "id": "dee44ce6",
   "metadata": {},
   "outputs": [
    {
     "data": {
      "text/plain": [
       "count    768.000000\n",
       "mean       0.348958\n",
       "std        0.476951\n",
       "min        0.000000\n",
       "25%        0.000000\n",
       "50%        0.000000\n",
       "75%        1.000000\n",
       "max        1.000000\n",
       "Name: Outcome, dtype: float64"
      ]
     },
     "execution_count": 15,
     "metadata": {},
     "output_type": "execute_result"
    }
   ],
   "source": [
    "#Analyzing the Outcome Variable\n",
    "diabetes_dataset[\"Outcome\"].describe()"
   ]
  },
  {
   "cell_type": "markdown",
   "id": "ad551efa",
   "metadata": {},
   "source": [
    "# Bivariate Analysis"
   ]
  },
  {
   "cell_type": "code",
   "execution_count": 16,
   "id": "aecb23a6",
   "metadata": {},
   "outputs": [
    {
     "name": "stdout",
     "output_type": "stream",
     "text": [
      "                          Pregnancies   Glucose  BloodPressure  SkinThickness  \\\n",
      "Pregnancies                  1.000000  0.129459       0.141282      -0.081672   \n",
      "Glucose                      0.129459  1.000000       0.152590       0.057328   \n",
      "BloodPressure                0.141282  0.152590       1.000000       0.207371   \n",
      "SkinThickness               -0.081672  0.057328       0.207371       1.000000   \n",
      "Insulin                     -0.073535  0.331357       0.088933       0.436783   \n",
      "BMI                          0.017683  0.221071       0.281805       0.392573   \n",
      "DiabetesPedigreeFunction    -0.033523  0.137337       0.041265       0.183928   \n",
      "Age                          0.544341  0.263514       0.239528      -0.113970   \n",
      "Outcome                      0.221898  0.466581       0.065068       0.074752   \n",
      "\n",
      "                           Insulin       BMI  DiabetesPedigreeFunction  \\\n",
      "Pregnancies              -0.073535  0.017683                 -0.033523   \n",
      "Glucose                   0.331357  0.221071                  0.137337   \n",
      "BloodPressure             0.088933  0.281805                  0.041265   \n",
      "SkinThickness             0.436783  0.392573                  0.183928   \n",
      "Insulin                   1.000000  0.197859                  0.185071   \n",
      "BMI                       0.197859  1.000000                  0.140647   \n",
      "DiabetesPedigreeFunction  0.185071  0.140647                  1.000000   \n",
      "Age                      -0.042163  0.036242                  0.033561   \n",
      "Outcome                   0.130548  0.292695                  0.173844   \n",
      "\n",
      "                               Age   Outcome  \n",
      "Pregnancies               0.544341  0.221898  \n",
      "Glucose                   0.263514  0.466581  \n",
      "BloodPressure             0.239528  0.065068  \n",
      "SkinThickness            -0.113970  0.074752  \n",
      "Insulin                  -0.042163  0.130548  \n",
      "BMI                       0.036242  0.292695  \n",
      "DiabetesPedigreeFunction  0.033561  0.173844  \n",
      "Age                       1.000000  0.238356  \n",
      "Outcome                   0.238356  1.000000  \n"
     ]
    },
    {
     "ename": "TypeError",
     "evalue": "'NoneType' object is not subscriptable",
     "output_type": "error",
     "traceback": [
      "\u001b[1;31m---------------------------------------------------------------------------\u001b[0m",
      "\u001b[1;31mTypeError\u001b[0m                                 Traceback (most recent call last)",
      "Cell \u001b[1;32mIn[16], line 2\u001b[0m\n\u001b[0;32m      1\u001b[0m \u001b[38;5;66;03m#Corelation between features and target\u001b[39;00m\n\u001b[1;32m----> 2\u001b[0m \u001b[38;5;28mprint\u001b[39m(diabetes_dataset\u001b[38;5;241m.\u001b[39mcorr())[\u001b[38;5;124m\"\u001b[39m\u001b[38;5;124mOutcome\u001b[39m\u001b[38;5;124m\"\u001b[39m]\u001b[38;5;241m.\u001b[39msort_values(ascending)\n",
      "\u001b[1;31mTypeError\u001b[0m: 'NoneType' object is not subscriptable"
     ]
    }
   ],
   "source": [
    "#Corelation between features and target\n",
    "print(diabetes_dataset.corr())[\"Outcome\"].sort_values(ascending)"
   ]
  },
  {
   "cell_type": "code",
   "execution_count": 46,
   "id": "1a12680c",
   "metadata": {},
   "outputs": [
    {
     "data": {
      "text/plain": [
       "136"
      ]
     },
     "execution_count": 46,
     "metadata": {},
     "output_type": "execute_result"
    }
   ],
   "source": [
    "#Analysis of Glucose and target variable\n",
    "diabetes_dataset['Glucose'].nunique()\n"
   ]
  },
  {
   "cell_type": "code",
   "execution_count": 47,
   "id": "bf426e3d",
   "metadata": {},
   "outputs": [
    {
     "data": {
      "text/plain": [
       "Glucose\n",
       "99     17\n",
       "100    17\n",
       "111    14\n",
       "129    14\n",
       "125    14\n",
       "       ..\n",
       "191     1\n",
       "177     1\n",
       "44      1\n",
       "62      1\n",
       "190     1\n",
       "Name: count, Length: 136, dtype: int64"
      ]
     },
     "execution_count": 47,
     "metadata": {},
     "output_type": "execute_result"
    }
   ],
   "source": [
    "#Freuency distribution of Glucose\n",
    "diabetes_dataset['Glucose'].value_counts()"
   ]
  },
  {
   "cell_type": "code",
   "execution_count": 48,
   "id": "739a5c14",
   "metadata": {},
   "outputs": [
    {
     "data": {
      "image/png": "[encoded data removed]",
      "text/plain": [
       "<Figure size 10000x1000 with 1 Axes>"
      ]
     },
     "metadata": {},
     "output_type": "display_data"
    }
   ],
   "source": [
    "#Visualize the frequency distribution\n",
    "f, ax = plt.subplots(figsize=(100,10))\n",
    "ax = sns.countplot(x=\"Glucose\", data=diabetes_dataset)\n",
    "plt.show()"
   ]
  },
  {
   "cell_type": "code",
   "execution_count": 49,
   "id": "72176f9e",
   "metadata": {},
   "outputs": [
    {
     "data": {
      "text/plain": [
       "Glucose  Outcome\n",
       "0        0          3\n",
       "         1          2\n",
       "44       0          1\n",
       "56       0          1\n",
       "57       0          2\n",
       "                   ..\n",
       "196      1          3\n",
       "197      1          3\n",
       "         0          1\n",
       "198      1          1\n",
       "199      1          1\n",
       "Name: count, Length: 215, dtype: int64"
      ]
     },
     "execution_count": 49,
     "metadata": {},
     "output_type": "execute_result"
    }
   ],
   "source": [
    "#Frequency distribution of target vaiable w.r.t Glucose\n",
    "diabetes_dataset.groupby('Glucose')['Outcome'].value_counts()"
   ]
  },
  {
   "cell_type": "code",
   "execution_count": 50,
   "id": "0a707d00",
   "metadata": {},
   "outputs": [
    {
     "data": {
      "text/plain": [
       "248"
      ]
     },
     "execution_count": 50,
     "metadata": {},
     "output_type": "execute_result"
    }
   ],
   "source": [
    "#Analysis of BMI and target variable\n",
    "diabetes_dataset['BMI'].nunique()\n"
   ]
  },
  {
   "cell_type": "code",
   "execution_count": 51,
   "id": "89564fce",
   "metadata": {},
   "outputs": [
    {
     "data": {
      "text/plain": [
       "BMI\n",
       "32.0    13\n",
       "31.6    12\n",
       "31.2    12\n",
       "0.0     11\n",
       "32.4    10\n",
       "        ..\n",
       "36.7     1\n",
       "41.8     1\n",
       "42.6     1\n",
       "42.8     1\n",
       "46.3     1\n",
       "Name: count, Length: 248, dtype: int64"
      ]
     },
     "execution_count": 51,
     "metadata": {},
     "output_type": "execute_result"
    }
   ],
   "source": [
    "#Freuency distribution of BMI\n",
    "diabetes_dataset['BMI'].value_counts()"
   ]
  },
  {
   "cell_type": "code",
   "execution_count": 52,
   "id": "4cc2c9df",
   "metadata": {},
   "outputs": [
    {
     "data": {
      "image/png": "[encoded data removed]",
      "text/plain": [
       "<Figure size 11800x1000 with 1 Axes>"
      ]
     },
     "metadata": {},
     "output_type": "display_data"
    }
   ],
   "source": [
    "#Visualize the frequency distribution\n",
    "f, ax = plt.subplots(figsize=(118,10))\n",
    "ax = sns.countplot(x=\"BMI\", data=diabetes_dataset)\n",
    "plt.show()"
   ]
  },
  {
   "cell_type": "code",
   "execution_count": 53,
   "id": "0ec9fe34",
   "metadata": {},
   "outputs": [
    {
     "data": {
      "text/plain": [
       "BMI   Outcome\n",
       "0.0   0          9\n",
       "      1          2\n",
       "18.2  0          3\n",
       "18.4  0          1\n",
       "19.1  0          1\n",
       "                ..\n",
       "53.2  1          1\n",
       "55.0  1          1\n",
       "57.3  0          1\n",
       "59.4  1          1\n",
       "67.1  1          1\n",
       "Name: count, Length: 358, dtype: int64"
      ]
     },
     "execution_count": 53,
     "metadata": {},
     "output_type": "execute_result"
    }
   ],
   "source": [
    "#Frequency distribution of target vaiable w.r.t BMI\n",
    "diabetes_dataset.groupby('BMI')['Outcome'].value_counts()"
   ]
  },
  {
   "cell_type": "markdown",
   "id": "51a3d043",
   "metadata": {},
   "source": [
    "# Multivariate Analysis"
   ]
  },
  {
   "cell_type": "code",
   "execution_count": 54,
   "id": "613489a1",
   "metadata": {},
   "outputs": [
    {
     "data": {
      "image/png": "[encoded data removed]",
      "text/plain": [
       "<Figure size 1000x800 with 2 Axes>"
      ]
     },
     "metadata": {},
     "output_type": "display_data"
    }
   ],
   "source": [
    "\n",
    "# Multivariate Analysis are performed to discover patterns and relationsip in the dataset\n",
    "#Heatmap to show correlation between features vs heart---\n",
    "# Compute correlation matrix\n",
    "correlation_matrix = diabetes_dataset[[\"Pregnancies\", \"Glucose\", \"BloodPressure\", \"SkinThickness\", \"Insulin\", \"BMI\", \"DiabetesPedigreeFunction\", \"Age\", \"Outcome\"]].corr()\n",
    "\n",
    "# Create a heatmap with annotations\n",
    "fig, ax = plt.subplots(figsize=(10, 8))\n",
    "sns.heatmap(correlation_matrix, cmap=\"coolwarm\", annot=True, fmt=\".2f\", square=True)\n",
    "plt.show()"
   ]
  },
  {
   "cell_type": "code",
   "execution_count": 55,
   "id": "77c4233e",
   "metadata": {},
   "outputs": [
    {
     "data": {
      "image/png": "[encoded data removed]",
      "text/plain": [
       "<Figure size 640x480 with 1 Axes>"
      ]
     },
     "metadata": {},
     "output_type": "display_data"
    },
    {
     "name": "stdout",
     "output_type": "stream",
     "text": [
      "Outcome\n",
      "0    500\n",
      "1    268\n",
      "Name: count, dtype: int64\n"
     ]
    }
   ],
   "source": [
    "#Analyzing individual features wrt target\n",
    "y = diabetes_dataset[\"Outcome\"]\n",
    "sns.countplot(y)\n",
    "plt.show()\n",
    "outcome_values = diabetes_dataset.Outcome.value_counts()\n",
    "print(outcome_values)"
   ]
  },
  {
   "cell_type": "code",
   "execution_count": 56,
   "id": "7cb66df5",
   "metadata": {},
   "outputs": [
    {
     "data": {
      "text/plain": [
       "array([50, 31, 32, 21, 33, 30, 26, 29, 53, 54, 34, 57, 59, 51, 27, 41, 43,\n",
       "       22, 38, 60, 28, 45, 35, 46, 56, 37, 48, 40, 25, 24, 58, 42, 44, 39,\n",
       "       36, 23, 61, 69, 62, 55, 65, 47, 52, 66, 49, 63, 67, 72, 81, 64, 70,\n",
       "       68], dtype=int64)"
      ]
     },
     "execution_count": 56,
     "metadata": {},
     "output_type": "execute_result"
    }
   ],
   "source": [
    "#Analysing the sex feature\n",
    "diabetes_dataset[\"Age\"].unique()\n"
   ]
  },
  {
   "cell_type": "code",
   "execution_count": 57,
   "id": "913e78f6",
   "metadata": {},
   "outputs": [
    {
     "data": {
      "text/plain": [
       "<Axes: xlabel='Age', ylabel='Count'>"
      ]
     },
     "execution_count": 57,
     "metadata": {},
     "output_type": "execute_result"
    },
    {
     "data": {
      "image/png": "[encoded data removed]",
      "text/plain": [
       "<Figure size 640x480 with 1 Axes>"
      ]
     },
     "metadata": {},
     "output_type": "display_data"
    }
   ],
   "source": [
    "sns.histplot(diabetes_dataset[\"Age\"])"
   ]
  },
  {
   "cell_type": "code",
   "execution_count": 58,
   "id": "f1dfe2c6",
   "metadata": {},
   "outputs": [
    {
     "data": {
      "text/plain": [
       "array([  0,  94, 168,  88, 543, 846, 175, 230,  83,  96, 235, 146, 115,\n",
       "       140, 110, 245,  54, 192, 207,  70, 240,  82,  36,  23, 300, 342,\n",
       "       304, 142, 128,  38, 100,  90, 270,  71, 125, 176,  48,  64, 228,\n",
       "        76, 220,  40, 152,  18, 135, 495,  37,  51,  99, 145, 225,  49,\n",
       "        50,  92, 325,  63, 284, 119, 204, 155, 485,  53, 114, 105, 285,\n",
       "       156,  78, 130,  55,  58, 160, 210, 318,  44, 190, 280,  87, 271,\n",
       "       129, 120, 478,  56,  32, 744, 370,  45, 194, 680, 402, 258, 375,\n",
       "       150,  67,  57, 116, 278, 122, 545,  75,  74, 182, 360, 215, 184,\n",
       "        42, 132, 148, 180, 205,  85, 231,  29,  68,  52, 255, 171,  73,\n",
       "       108,  43, 167, 249, 293,  66, 465,  89, 158,  84,  72,  59,  81,\n",
       "       196, 415, 275, 165, 579, 310,  61, 474, 170, 277,  60,  14,  95,\n",
       "       237, 191, 328, 250, 480, 265, 193,  79,  86, 326, 188, 106,  65,\n",
       "       166, 274,  77, 126, 330, 600, 185,  25,  41, 272, 321, 144,  15,\n",
       "       183,  91,  46, 440, 159, 540, 200, 335, 387,  22, 291, 392, 178,\n",
       "       127, 510,  16, 112], dtype=int64)"
      ]
     },
     "execution_count": 58,
     "metadata": {},
     "output_type": "execute_result"
    }
   ],
   "source": [
    "diabetes_dataset[\"Insulin\"].unique()"
   ]
  },
  {
   "cell_type": "code",
   "execution_count": 59,
   "id": "84f80e8c",
   "metadata": {},
   "outputs": [
    {
     "data": {
      "text/plain": [
       "<Axes: xlabel='Insulin', ylabel='Count'>"
      ]
     },
     "execution_count": 59,
     "metadata": {},
     "output_type": "execute_result"
    },
    {
     "data": {
      "image/png": "[encoded data removed]",
      "text/plain": [
       "<Figure size 640x480 with 1 Axes>"
      ]
     },
     "metadata": {},
     "output_type": "display_data"
    }
   ],
   "source": [
    "sns.histplot(diabetes_dataset[\"Insulin\"])"
   ]
  },
  {
   "cell_type": "code",
   "execution_count": 60,
   "id": "25747e84",
   "metadata": {},
   "outputs": [
    {
     "data": {
      "text/plain": [
       "array([148,  85, 183,  89, 137, 116,  78, 115, 197, 125, 110, 168, 139,\n",
       "       189, 166, 100, 118, 107, 103, 126,  99, 196, 119, 143, 147,  97,\n",
       "       145, 117, 109, 158,  88,  92, 122, 138, 102,  90, 111, 180, 133,\n",
       "       106, 171, 159, 146,  71, 105, 101, 176, 150,  73, 187,  84,  44,\n",
       "       141, 114,  95, 129,  79,   0,  62, 131, 112, 113,  74,  83, 136,\n",
       "        80, 123,  81, 134, 142, 144,  93, 163, 151,  96, 155,  76, 160,\n",
       "       124, 162, 132, 120, 173, 170, 128, 108, 154,  57, 156, 153, 188,\n",
       "       152, 104,  87,  75, 179, 130, 194, 181, 135, 184, 140, 177, 164,\n",
       "        91, 165,  86, 193, 191, 161, 167,  77, 182, 157, 178,  61,  98,\n",
       "       127,  82,  72, 172,  94, 175, 195,  68, 186, 198, 121,  67, 174,\n",
       "       199,  56, 169, 149,  65, 190], dtype=int64)"
      ]
     },
     "execution_count": 60,
     "metadata": {},
     "output_type": "execute_result"
    }
   ],
   "source": [
    "#Analysing the Glucose feature\n",
    "diabetes_dataset[\"Glucose\"].unique()"
   ]
  },
  {
   "cell_type": "code",
   "execution_count": 61,
   "id": "3f407758",
   "metadata": {},
   "outputs": [
    {
     "data": {
      "text/plain": [
       "<Axes: >"
      ]
     },
     "execution_count": 61,
     "metadata": {},
     "output_type": "execute_result"
    },
    {
     "data": {
      "image/png": "[encoded data removed]",
      "text/plain": [
       "<Figure size 640x480 with 1 Axes>"
      ]
     },
     "metadata": {},
     "output_type": "display_data"
    }
   ],
   "source": [
    "sns.barplot(diabetes_dataset[\"Glucose\"])"
   ]
  },
  {
   "cell_type": "code",
   "execution_count": 62,
   "id": "6c2b1523",
   "metadata": {},
   "outputs": [
    {
     "data": {
      "text/plain": [
       "<Axes: xlabel='Glucose', ylabel='Count'>"
      ]
     },
     "execution_count": 62,
     "metadata": {},
     "output_type": "execute_result"
    },
    {
     "data": {
      "image/png": "[encoded data removed]",
      "text/plain": [
       "<Figure size 640x480 with 1 Axes>"
      ]
     },
     "metadata": {},
     "output_type": "display_data"
    }
   ],
   "source": [
    "sns.histplot(diabetes_dataset[\"Glucose\"])"
   ]
  },
  {
   "cell_type": "markdown",
   "id": "e1a3f5b6",
   "metadata": {},
   "source": [
    "# Data Preprocessing"
   ]
  },
  {
   "cell_type": "markdown",
   "id": "77d8bda3",
   "metadata": {},
   "source": [
    " Separating data into features (X) and labels (Y) is necessary for training supervised machine learning models. Features are used as input for training the model, and labels represent the desired output. This division is fundamental for the model to learn relationships between inputs and outputs during training and make predictions on new data."
   ]
  },
  {
   "cell_type": "code",
   "execution_count": 63,
   "id": "335f0b4d",
   "metadata": {},
   "outputs": [],
   "source": [
    "#Separating the data and labels\n",
    "X=diabetes_dataset.drop(columns = 'Outcome', axis=1)\n",
    "Y=diabetes_dataset[\"Outcome\"]"
   ]
  },
  {
   "cell_type": "code",
   "execution_count": 64,
   "id": "64c4146b",
   "metadata": {},
   "outputs": [
    {
     "name": "stdout",
     "output_type": "stream",
     "text": [
      "     Pregnancies  Glucose  BloodPressure  SkinThickness  Insulin   BMI  \\\n",
      "0              6      148             72             35        0  33.6   \n",
      "1              1       85             66             29        0  26.6   \n",
      "2              8      183             64              0        0  23.3   \n",
      "3              1       89             66             23       94  28.1   \n",
      "4              0      137             40             35      168  43.1   \n",
      "..           ...      ...            ...            ...      ...   ...   \n",
      "763           10      101             76             48      180  32.9   \n",
      "764            2      122             70             27        0  36.8   \n",
      "765            5      121             72             23      112  26.2   \n",
      "766            1      126             60              0        0  30.1   \n",
      "767            1       93             70             31        0  30.4   \n",
      "\n",
      "     DiabetesPedigreeFunction  Age  \n",
      "0                       0.627   50  \n",
      "1                       0.351   31  \n",
      "2                       0.672   32  \n",
      "3                       0.167   21  \n",
      "4                       2.288   33  \n",
      "..                        ...  ...  \n",
      "763                     0.171   63  \n",
      "764                     0.340   27  \n",
      "765                     0.245   30  \n",
      "766                     0.349   47  \n",
      "767                     0.315   23  \n",
      "\n",
      "[768 rows x 8 columns]\n"
     ]
    }
   ],
   "source": [
    "print(X)"
   ]
  },
  {
   "cell_type": "code",
   "execution_count": 65,
   "id": "7a039548",
   "metadata": {},
   "outputs": [
    {
     "name": "stdout",
     "output_type": "stream",
     "text": [
      "0      1\n",
      "1      0\n",
      "2      1\n",
      "3      0\n",
      "4      1\n",
      "      ..\n",
      "763    0\n",
      "764    0\n",
      "765    0\n",
      "766    1\n",
      "767    0\n",
      "Name: Outcome, Length: 768, dtype: int64\n"
     ]
    }
   ],
   "source": [
    "print(Y)"
   ]
  },
  {
   "cell_type": "markdown",
   "id": "935d5a36",
   "metadata": {},
   "source": [
    "# Data Standarization"
   ]
  },
  {
   "cell_type": "markdown",
   "id": "97f90446",
   "metadata": {},
   "source": [
    "we have pregnancies ,insulin,glucose,bloodpressure columns and each column have values in difffenet ranges like pregnancies are between 1-10 and Glucose column has values between 100-150 range so its become difficullt for machine learning model to learn because of diffrent ranges that's why we have to standerize our data"
   ]
  },
  {
   "cell_type": "code",
   "execution_count": 66,
   "id": "21ec0dfd",
   "metadata": {},
   "outputs": [],
   "source": [
    "#Creating an instance of StandardScalar class of preproceesing module of sklrean library\n",
    "scaler=StandardScaler()"
   ]
  },
  {
   "cell_type": "markdown",
   "id": "62d8d91e",
   "metadata": {},
   "source": [
    "The fit method computes the mean (μ) and standard deviation (σ) of each feature in the training data. This step is crucial because it determines how the transformation (standardization in this case) will be applied. Essentially, fit \"learns\" the parameters needed for the transformation."
   ]
  },
  {
   "cell_type": "code",
   "execution_count": 67,
   "id": "34a67221",
   "metadata": {},
   "outputs": [
    {
     "data": {
      "text/html": [
       "<style>#sk-container-id-1 {color: black;}#sk-container-id-1 pre{padding: 0;}#sk-container-id-1 div.sk-toggleable {background-color: white;}#sk-container-id-1 label.sk-toggleable__label {cursor: pointer;display: block;width: 100%;margin-bottom: 0;padding: 0.3em;box-sizing: border-box;text-align: center;}#sk-container-id-1 label.sk-toggleable__label-arrow:before {content: \"▸\";float: left;margin-right: 0.25em;color: #696969;}#sk-container-id-1 label.sk-toggleable__label-arrow:hover:before {color: black;}#sk-container-id-1 div.sk-estimator:hover label.sk-toggleable__label-arrow:before {color: black;}#sk-container-id-1 div.sk-toggleable__content {max-height: 0;max-width: 0;overflow: hidden;text-align: left;background-color: #f0f8ff;}#sk-container-id-1 div.sk-toggleable__content pre {margin: 0.2em;color: black;border-radius: 0.25em;background-color: #f0f8ff;}#sk-container-id-1 input.sk-toggleable__control:checked~div.sk-toggleable__content {max-height: 200px;max-width: 100%;overflow: auto;}#sk-container-id-1 input.sk-toggleable__control:checked~label.sk-toggleable__label-arrow:before {content: \"▾\";}#sk-container-id-1 div.sk-estimator input.sk-toggleable__control:checked~label.sk-toggleable__label {background-color: #d4ebff;}#sk-container-id-1 div.sk-label input.sk-toggleable__control:checked~label.sk-toggleable__label {background-color: #d4ebff;}#sk-container-id-1 input.sk-hidden--visually {border: 0;clip: rect(1px 1px 1px 1px);clip: rect(1px, 1px, 1px, 1px);height: 1px;margin: -1px;overflow: hidden;padding: 0;position: absolute;width: 1px;}#sk-container-id-1 div.sk-estimator {font-family: monospace;background-color: #f0f8ff;border: 1px dotted black;border-radius: 0.25em;box-sizing: border-box;margin-bottom: 0.5em;}#sk-container-id-1 div.sk-estimator:hover {background-color: #d4ebff;}#sk-container-id-1 div.sk-parallel-item::after {content: \"\";width: 100%;border-bottom: 1px solid gray;flex-grow: 1;}#sk-container-id-1 div.sk-label:hover label.sk-toggleable__label {background-color: #d4ebff;}#sk-container-id-1 div.sk-serial::before {content: \"\";position: absolute;border-left: 1px solid gray;box-sizing: border-box;top: 0;bottom: 0;left: 50%;z-index: 0;}#sk-container-id-1 div.sk-serial {display: flex;flex-direction: column;align-items: center;background-color: white;padding-right: 0.2em;padding-left: 0.2em;position: relative;}#sk-container-id-1 div.sk-item {position: relative;z-index: 1;}#sk-container-id-1 div.sk-parallel {display: flex;align-items: stretch;justify-content: center;background-color: white;position: relative;}#sk-container-id-1 div.sk-item::before, #sk-container-id-1 div.sk-parallel-item::before {content: \"\";position: absolute;border-left: 1px solid gray;box-sizing: border-box;top: 0;bottom: 0;left: 50%;z-index: -1;}#sk-container-id-1 div.sk-parallel-item {display: flex;flex-direction: column;z-index: 1;position: relative;background-color: white;}#sk-container-id-1 div.sk-parallel-item:first-child::after {align-self: flex-end;width: 50%;}#sk-container-id-1 div.sk-parallel-item:last-child::after {align-self: flex-start;width: 50%;}#sk-container-id-1 div.sk-parallel-item:only-child::after {width: 0;}#sk-container-id-1 div.sk-dashed-wrapped {border: 1px dashed gray;margin: 0 0.4em 0.5em 0.4em;box-sizing: border-box;padding-bottom: 0.4em;background-color: white;}#sk-container-id-1 div.sk-label label {font-family: monospace;font-weight: bold;display: inline-block;line-height: 1.2em;}#sk-container-id-1 div.sk-label-container {text-align: center;}#sk-container-id-1 div.sk-container {/* jupyter's `normalize.less` sets `[hidden] { display: none; }` but bootstrap.min.css set `[hidden] { display: none !important; }` so we also need the `!important` here to be able to override the default hidden behavior on the sphinx rendered scikit-learn.org. See: https://github.com/scikit-learn/scikit-learn/issues/21755 */display: inline-block !important;position: relative;}#sk-container-id-1 div.sk-text-repr-fallback {display: none;}</style><div id=\"sk-container-id-1\" class=\"sk-top-container\"><div class=\"sk-text-repr-fallback\"><pre>StandardScaler()</pre><b>In a Jupyter environment, please rerun this cell to show the HTML representation or trust the notebook. <br />On GitHub, the HTML representation is unable to render, please try loading this page with nbviewer.org.</b></div><div class=\"sk-container\" hidden><div class=\"sk-item\"><div class=\"sk-estimator sk-toggleable\"><input class=\"sk-toggleable__control sk-hidden--visually\" id=\"sk-estimator-id-1\" type=\"checkbox\" checked><label for=\"sk-estimator-id-1\" class=\"sk-toggleable__label sk-toggleable__label-arrow\">StandardScaler</label><div class=\"sk-toggleable__content\"><pre>StandardScaler()</pre></div></div></div></div></div>"
      ],
      "text/plain": [
       "StandardScaler()"
      ]
     },
     "execution_count": 67,
     "metadata": {},
     "output_type": "execute_result"
    }
   ],
   "source": [
    "scaler.fit(X)"
   ]
  },
  {
   "cell_type": "markdown",
   "id": "6d16b67f",
   "metadata": {},
   "source": [
    "The transform method applies the learned transformation to the data. It subtracts the mean and divides by the standard deviation for each feature, standardizing the data according to the Z-score formula."
   ]
  },
  {
   "cell_type": "code",
   "execution_count": 68,
   "id": "4e7bba83",
   "metadata": {},
   "outputs": [],
   "source": [
    "standarized_data = scaler.transform(X)"
   ]
  },
  {
   "cell_type": "code",
   "execution_count": 69,
   "id": "0b4876ef",
   "metadata": {},
   "outputs": [
    {
     "name": "stdout",
     "output_type": "stream",
     "text": [
      "[[ 0.63994726  0.84832379  0.14964075 ...  0.20401277  0.46849198\n",
      "   1.4259954 ]\n",
      " [-0.84488505 -1.12339636 -0.16054575 ... -0.68442195 -0.36506078\n",
      "  -0.19067191]\n",
      " [ 1.23388019  1.94372388 -0.26394125 ... -1.10325546  0.60439732\n",
      "  -0.10558415]\n",
      " ...\n",
      " [ 0.3429808   0.00330087  0.14964075 ... -0.73518964 -0.68519336\n",
      "  -0.27575966]\n",
      " [-0.84488505  0.1597866  -0.47073225 ... -0.24020459 -0.37110101\n",
      "   1.17073215]\n",
      " [-0.84488505 -0.8730192   0.04624525 ... -0.20212881 -0.47378505\n",
      "  -0.87137393]]\n"
     ]
    }
   ],
   "source": [
    "print(standarized_data)"
   ]
  },
  {
   "cell_type": "markdown",
   "id": "6959ff26",
   "metadata": {},
   "source": [
    "By standardizing the data, you bring all features to a common scale, typically with a mean of 0 and a standard deviation of 1. This ensures that each feature contributes equally to the model's learning process. "
   ]
  },
  {
   "cell_type": "code",
   "execution_count": 70,
   "id": "b99952c1",
   "metadata": {},
   "outputs": [],
   "source": [
    "#Assignign Standarized data to X\n",
    "X=standarized_data"
   ]
  },
  {
   "cell_type": "code",
   "execution_count": 71,
   "id": "60fd0063",
   "metadata": {},
   "outputs": [],
   "source": [
    "#Assining Labeles to the Y (Already done above)\n",
    "Y=diabetes_dataset[\"Outcome\"]"
   ]
  },
  {
   "cell_type": "code",
   "execution_count": 72,
   "id": "5cf449ae",
   "metadata": {},
   "outputs": [
    {
     "name": "stdout",
     "output_type": "stream",
     "text": [
      "[[ 0.63994726  0.84832379  0.14964075 ...  0.20401277  0.46849198\n",
      "   1.4259954 ]\n",
      " [-0.84488505 -1.12339636 -0.16054575 ... -0.68442195 -0.36506078\n",
      "  -0.19067191]\n",
      " [ 1.23388019  1.94372388 -0.26394125 ... -1.10325546  0.60439732\n",
      "  -0.10558415]\n",
      " ...\n",
      " [ 0.3429808   0.00330087  0.14964075 ... -0.73518964 -0.68519336\n",
      "  -0.27575966]\n",
      " [-0.84488505  0.1597866  -0.47073225 ... -0.24020459 -0.37110101\n",
      "   1.17073215]\n",
      " [-0.84488505 -0.8730192   0.04624525 ... -0.20212881 -0.47378505\n",
      "  -0.87137393]]\n",
      "0      1\n",
      "1      0\n",
      "2      1\n",
      "3      0\n",
      "4      1\n",
      "      ..\n",
      "763    0\n",
      "764    0\n",
      "765    0\n",
      "766    1\n",
      "767    0\n",
      "Name: Outcome, Length: 768, dtype: int64\n"
     ]
    }
   ],
   "source": [
    "#Now X has Standarized data\n",
    "print(X)\n",
    "print(Y)"
   ]
  },
  {
   "cell_type": "markdown",
   "id": "11e647a8",
   "metadata": {},
   "source": [
    "# Train Test Split"
   ]
  },
  {
   "cell_type": "markdown",
   "id": "a0fdfb3d",
   "metadata": {},
   "source": [
    "The train-test split is a critical step in machine learning to evaluate the performance of a model. It involves dividing the dataset into training and testing sets.\n",
    "## Need:\n",
    "It allows us to assess how well the model generalizes to new, unseen data. Without a separate test set, the model might perform well on the data it was trained on but poorly on new data (overfitting).\n",
    "\n",
    "### train_test_split is a function of model_selection(module of Sckit-learn library)\n",
    "             \n",
    "#### X and y: Features and labels, respectively, representing the dataset to be split.\n",
    "#### test_size: Specifies the proportion of the dataset to include in the test split (e.g., test_size=0.2 for 20% testing).\n",
    "#### random_state: Sets a seed for random number generation, ensuring reproducibility.\n",
    "#### stratify: Maintains the distribution of classes in classification tasks during the split."
   ]
  },
  {
   "cell_type": "code",
   "execution_count": 73,
   "id": "8f5cb9e8",
   "metadata": {},
   "outputs": [],
   "source": [
    "X_train,X_test,Y_train,Y_test = train_test_split(X, Y, test_size=0.10, stratify=Y, random_state=5)"
   ]
  },
  {
   "cell_type": "code",
   "execution_count": 74,
   "id": "d171dd34",
   "metadata": {},
   "outputs": [
    {
     "name": "stdout",
     "output_type": "stream",
     "text": [
      "Shape of X_Train:(691, 8)\n",
      "Shape of y_Train:(691,)\n",
      "Shape of X_Test:(77, 8)\n",
      "Shape of Y_Test:(77,)\n"
     ]
    }
   ],
   "source": [
    "#Lets Compare the shape of dataset noe after spliting it in testing and training data separately\n",
    "print(\"Shape of X_Train:\"+str(X_train.shape))\n",
    "print(\"Shape of y_Train:\"+str(Y_train.shape))\n",
    "print(\"Shape of X_Test:\"+str(X_test.shape))\n",
    "print(\"Shape of Y_Test:\"+str(Y_test.shape))"
   ]
  },
  {
   "cell_type": "markdown",
   "id": "52d57ee5",
   "metadata": {},
   "source": [
    "# Training the Model"
   ]
  },
  {
   "cell_type": "markdown",
   "id": "2ffae8dd",
   "metadata": {},
   "source": [
    "## Support Vector Machine"
   ]
  },
  {
   "cell_type": "markdown",
   "id": "1d67c8bf",
   "metadata": {},
   "source": [
    "This line of code sets up a Support Vector Machine (SVM) classifier with a linear kernel. SVM is a tool for learning patterns in data, and a linear kernel means it looks for a straight-line separation between different groups. This is useful for tasks like classification, where the goal is to categorize data points accurately"
   ]
  },
  {
   "cell_type": "code",
   "execution_count": 75,
   "id": "12afcc4d",
   "metadata": {},
   "outputs": [],
   "source": [
    "classifier = svm.SVC(kernel='linear')"
   ]
  },
  {
   "cell_type": "markdown",
   "id": "5c7a82b5",
   "metadata": {},
   "source": [
    "This line of code trains the Support Vector Machine (SVM) classifier using labeled training data. The `fit` method adjusts the model's parameters based on the input features (`X_train`) and corresponding labels (`Y_train`). Essentially, it teaches the SVM to create an optimal decision boundary that separates different classes in the training set, allowing the model to make accurate predictions on new, unseen data."
   ]
  },
  {
   "cell_type": "code",
   "execution_count": 76,
   "id": "0edbdad4",
   "metadata": {},
   "outputs": [
    {
     "data": {
      "text/html": [
       "<style>#sk-container-id-2 {color: black;}#sk-container-id-2 pre{padding: 0;}#sk-container-id-2 div.sk-toggleable {background-color: white;}#sk-container-id-2 label.sk-toggleable__label {cursor: pointer;display: block;width: 100%;margin-bottom: 0;padding: 0.3em;box-sizing: border-box;text-align: center;}#sk-container-id-2 label.sk-toggleable__label-arrow:before {content: \"▸\";float: left;margin-right: 0.25em;color: #696969;}#sk-container-id-2 label.sk-toggleable__label-arrow:hover:before {color: black;}#sk-container-id-2 div.sk-estimator:hover label.sk-toggleable__label-arrow:before {color: black;}#sk-container-id-2 div.sk-toggleable__content {max-height: 0;max-width: 0;overflow: hidden;text-align: left;background-color: #f0f8ff;}#sk-container-id-2 div.sk-toggleable__content pre {margin: 0.2em;color: black;border-radius: 0.25em;background-color: #f0f8ff;}#sk-container-id-2 input.sk-toggleable__control:checked~div.sk-toggleable__content {max-height: 200px;max-width: 100%;overflow: auto;}#sk-container-id-2 input.sk-toggleable__control:checked~label.sk-toggleable__label-arrow:before {content: \"▾\";}#sk-container-id-2 div.sk-estimator input.sk-toggleable__control:checked~label.sk-toggleable__label {background-color: #d4ebff;}#sk-container-id-2 div.sk-label input.sk-toggleable__control:checked~label.sk-toggleable__label {background-color: #d4ebff;}#sk-container-id-2 input.sk-hidden--visually {border: 0;clip: rect(1px 1px 1px 1px);clip: rect(1px, 1px, 1px, 1px);height: 1px;margin: -1px;overflow: hidden;padding: 0;position: absolute;width: 1px;}#sk-container-id-2 div.sk-estimator {font-family: monospace;background-color: #f0f8ff;border: 1px dotted black;border-radius: 0.25em;box-sizing: border-box;margin-bottom: 0.5em;}#sk-container-id-2 div.sk-estimator:hover {background-color: #d4ebff;}#sk-container-id-2 div.sk-parallel-item::after {content: \"\";width: 100%;border-bottom: 1px solid gray;flex-grow: 1;}#sk-container-id-2 div.sk-label:hover label.sk-toggleable__label {background-color: #d4ebff;}#sk-container-id-2 div.sk-serial::before {content: \"\";position: absolute;border-left: 1px solid gray;box-sizing: border-box;top: 0;bottom: 0;left: 50%;z-index: 0;}#sk-container-id-2 div.sk-serial {display: flex;flex-direction: column;align-items: center;background-color: white;padding-right: 0.2em;padding-left: 0.2em;position: relative;}#sk-container-id-2 div.sk-item {position: relative;z-index: 1;}#sk-container-id-2 div.sk-parallel {display: flex;align-items: stretch;justify-content: center;background-color: white;position: relative;}#sk-container-id-2 div.sk-item::before, #sk-container-id-2 div.sk-parallel-item::before {content: \"\";position: absolute;border-left: 1px solid gray;box-sizing: border-box;top: 0;bottom: 0;left: 50%;z-index: -1;}#sk-container-id-2 div.sk-parallel-item {display: flex;flex-direction: column;z-index: 1;position: relative;background-color: white;}#sk-container-id-2 div.sk-parallel-item:first-child::after {align-self: flex-end;width: 50%;}#sk-container-id-2 div.sk-parallel-item:last-child::after {align-self: flex-start;width: 50%;}#sk-container-id-2 div.sk-parallel-item:only-child::after {width: 0;}#sk-container-id-2 div.sk-dashed-wrapped {border: 1px dashed gray;margin: 0 0.4em 0.5em 0.4em;box-sizing: border-box;padding-bottom: 0.4em;background-color: white;}#sk-container-id-2 div.sk-label label {font-family: monospace;font-weight: bold;display: inline-block;line-height: 1.2em;}#sk-container-id-2 div.sk-label-container {text-align: center;}#sk-container-id-2 div.sk-container {/* jupyter's `normalize.less` sets `[hidden] { display: none; }` but bootstrap.min.css set `[hidden] { display: none !important; }` so we also need the `!important` here to be able to override the default hidden behavior on the sphinx rendered scikit-learn.org. See: https://github.com/scikit-learn/scikit-learn/issues/21755 */display: inline-block !important;position: relative;}#sk-container-id-2 div.sk-text-repr-fallback {display: none;}</style><div id=\"sk-container-id-2\" class=\"sk-top-container\"><div class=\"sk-text-repr-fallback\"><pre>SVC(kernel=&#x27;linear&#x27;)</pre><b>In a Jupyter environment, please rerun this cell to show the HTML representation or trust the notebook. <br />On GitHub, the HTML representation is unable to render, please try loading this page with nbviewer.org.</b></div><div class=\"sk-container\" hidden><div class=\"sk-item\"><div class=\"sk-estimator sk-toggleable\"><input class=\"sk-toggleable__control sk-hidden--visually\" id=\"sk-estimator-id-2\" type=\"checkbox\" checked><label for=\"sk-estimator-id-2\" class=\"sk-toggleable__label sk-toggleable__label-arrow\">SVC</label><div class=\"sk-toggleable__content\"><pre>SVC(kernel=&#x27;linear&#x27;)</pre></div></div></div></div></div>"
      ],
      "text/plain": [
       "SVC(kernel='linear')"
      ]
     },
     "execution_count": 76,
     "metadata": {},
     "output_type": "execute_result"
    }
   ],
   "source": [
    "#training the support vector Machine Classifier\n",
    "classifier.fit(X_train, Y_train)\n"
   ]
  },
  {
   "cell_type": "markdown",
   "id": "477764e7",
   "metadata": {},
   "source": [
    "## Accuracy Score"
   ]
  },
  {
   "cell_type": "code",
   "execution_count": 77,
   "id": "ab33437d",
   "metadata": {},
   "outputs": [],
   "source": [
    "# accuracy score on the training data\n",
    "X_train_prediction = classifier.predict(X_train)\n",
    "training_data_accuracy = accuracy_score(X_train_prediction, Y_train)"
   ]
  },
  {
   "cell_type": "code",
   "execution_count": 78,
   "id": "42501949",
   "metadata": {},
   "outputs": [
    {
     "name": "stdout",
     "output_type": "stream",
     "text": [
      "Accuracy score of the training data :  0.7858176555716353\n"
     ]
    }
   ],
   "source": [
    "print('Accuracy score of the training data : ', training_data_accuracy)"
   ]
  },
  {
   "cell_type": "code",
   "execution_count": 79,
   "id": "d7755e54",
   "metadata": {},
   "outputs": [],
   "source": [
    "# accuracy score on the test data\n",
    "X_test_prediction = classifier.predict(X_test)\n",
    "test_data_accuracy = accuracy_score(X_test_prediction, Y_test)"
   ]
  },
  {
   "cell_type": "code",
   "execution_count": 80,
   "id": "6186b6cc",
   "metadata": {},
   "outputs": [
    {
     "name": "stdout",
     "output_type": "stream",
     "text": [
      "Accuracy score of the test data :  0.7532467532467533\n"
     ]
    }
   ],
   "source": [
    "print('Accuracy score of the test data : ', test_data_accuracy)"
   ]
  },
  {
   "cell_type": "markdown",
   "id": "04774c31",
   "metadata": {},
   "source": [
    "## Logistic Regression"
   ]
  },
  {
   "cell_type": "code",
   "execution_count": 81,
   "id": "95345d28",
   "metadata": {},
   "outputs": [],
   "source": [
    "# 5- Model fitting\n",
    "from sklearn.metrics import classification_report, confusion_matrix, roc_curve, auc\n",
    "from sklearn.metrics import accuracy_score, recall_score,f1_score,precision_score,confusion_matrix\n",
    "from sklearn.model_selection import train_test_split"
   ]
  },
  {
   "cell_type": "code",
   "execution_count": 82,
   "id": "04c2b87a",
   "metadata": {},
   "outputs": [],
   "source": [
    "from sklearn.linear_model import LogisticRegression\n",
    "lr = LogisticRegression()\n",
    "lr.fit(X_train,Y_train)\n",
    "Y_pred_lr = lr.predict(X_test)"
   ]
  },
  {
   "cell_type": "code",
   "execution_count": 83,
   "id": "41124b28",
   "metadata": {},
   "outputs": [
    {
     "data": {
      "text/plain": [
       "(77,)"
      ]
     },
     "execution_count": 83,
     "metadata": {},
     "output_type": "execute_result"
    }
   ],
   "source": [
    "Y_pred_lr.shape"
   ]
  },
  {
   "cell_type": "code",
   "execution_count": 84,
   "id": "abbcfa29",
   "metadata": {},
   "outputs": [
    {
     "name": "stdout",
     "output_type": "stream",
     "text": [
      "The accuracy score achieved using Logistic Regression is: 75.32\n"
     ]
    }
   ],
   "source": [
    "score_lr = round(accuracy_score(Y_pred_lr,Y_test)*100,2)\n",
    "print(\"The accuracy score achieved using Logistic Regression is: \"+str(score_lr))\n"
   ]
  },
  {
   "cell_type": "code",
   "execution_count": 85,
   "id": "237344f1",
   "metadata": {},
   "outputs": [
    {
     "name": "stdout",
     "output_type": "stream",
     "text": [
      "[[44 13]\n",
      " [ 6 14]]\n",
      "              precision    recall  f1-score   support\n",
      "\n",
      "           0       0.77      0.88      0.82        50\n",
      "           1       0.70      0.52      0.60        27\n",
      "\n",
      "    accuracy                           0.75        77\n",
      "   macro avg       0.74      0.70      0.71        77\n",
      "weighted avg       0.75      0.75      0.74        77\n",
      "\n"
     ]
    }
   ],
   "source": [
    "#Confusion matrix and classification report\n",
    "print(confusion_matrix(Y_pred_lr,Y_test))\n",
    "print(classification_report(Y_test,Y_pred_lr))\n"
   ]
  },
  {
   "cell_type": "markdown",
   "id": "4d7fb947",
   "metadata": {},
   "source": [
    "## Naive Bayes"
   ]
  },
  {
   "cell_type": "code",
   "execution_count": 86,
   "id": "b9b3ea49",
   "metadata": {},
   "outputs": [],
   "source": [
    "from sklearn.naive_bayes import GaussianNB\n",
    "nb = GaussianNB()\n",
    "nb.fit(X_train,Y_train)\n",
    "Y_pred_nb = nb.predict(X_test)"
   ]
  },
  {
   "cell_type": "code",
   "execution_count": 87,
   "id": "439a7932",
   "metadata": {},
   "outputs": [
    {
     "data": {
      "text/plain": [
       "(77,)"
      ]
     },
     "execution_count": 87,
     "metadata": {},
     "output_type": "execute_result"
    }
   ],
   "source": [
    "Y_pred_nb.shape"
   ]
  },
  {
   "cell_type": "code",
   "execution_count": 88,
   "id": "8d4d1cd5",
   "metadata": {},
   "outputs": [
    {
     "name": "stdout",
     "output_type": "stream",
     "text": [
      "The accuracy score achieved using Naive Bayes 72.73%\n"
     ]
    }
   ],
   "source": [
    "score_nb = round(accuracy_score(Y_pred_nb,Y_test)*100,2)\n",
    "print(\"The accuracy score achieved using Naive Bayes \"+str(score_nb)+\"%\")\n"
   ]
  },
  {
   "cell_type": "markdown",
   "id": "938d6359",
   "metadata": {},
   "source": [
    "##  K nearest Neighbors "
   ]
  },
  {
   "cell_type": "code",
   "execution_count": 89,
   "id": "da6563c2",
   "metadata": {},
   "outputs": [],
   "source": [
    "from sklearn.neighbors import KNeighborsClassifier\n",
    "knn = KNeighborsClassifier(n_neighbors=7)\n",
    "knn.fit(X_train,Y_train)\n",
    "Y_pred_knn = knn.predict(X_test)"
   ]
  },
  {
   "cell_type": "code",
   "execution_count": 90,
   "id": "0f33afbf",
   "metadata": {},
   "outputs": [
    {
     "data": {
      "text/plain": [
       "(77,)"
      ]
     },
     "execution_count": 90,
     "metadata": {},
     "output_type": "execute_result"
    }
   ],
   "source": [
    "Y_pred_knn.shape"
   ]
  },
  {
   "cell_type": "code",
   "execution_count": 91,
   "id": "def93904",
   "metadata": {},
   "outputs": [
    {
     "name": "stdout",
     "output_type": "stream",
     "text": [
      "The accuracy achieved using KNN is: 76.62%\n"
     ]
    }
   ],
   "source": [
    "score_knn = round(accuracy_score(Y_pred_knn,Y_test)*100,2)\n",
    "print(\"The accuracy achieved using KNN is: \"+str(score_knn)+\"%\")\n"
   ]
  },
  {
   "cell_type": "markdown",
   "id": "04a89a3f",
   "metadata": {},
   "source": [
    "## Decision Tree"
   ]
  },
  {
   "cell_type": "code",
   "execution_count": 92,
   "id": "4a885ea0",
   "metadata": {},
   "outputs": [],
   "source": [
    "from sklearn.tree import DecisionTreeClassifier\n",
    "from sklearn.metrics import accuracy_score\n",
    "\n",
    "max_accuracy = 0\n",
    "for x in range(200):\n",
    "    dt = DecisionTreeClassifier(random_state=x)\n",
    "    dt.fit(X_train, Y_train)\n",
    "    Y_pred_dt = dt.predict(X_test)\n",
    "    current_accuracy = round(accuracy_score(Y_test, Y_pred_dt), 2)  # Fix here\n",
    "    if current_accuracy > max_accuracy:\n",
    "        max_accuracy = current_accuracy\n",
    "        best_x = x\n",
    "\n",
    "dt = DecisionTreeClassifier(random_state=best_x)\n",
    "dt.fit(X_train, Y_train)\n",
    "Y_pred_dt = dt.predict(X_test)\n"
   ]
  },
  {
   "cell_type": "code",
   "execution_count": 93,
   "id": "c577e2e1",
   "metadata": {},
   "outputs": [
    {
     "name": "stdout",
     "output_type": "stream",
     "text": [
      "The accuracy achieved using Desicion Tree is: 75.32%\n"
     ]
    }
   ],
   "source": [
    "score_dt = round(accuracy_score(Y_pred_dt,Y_test)*100,2)\n",
    "print(\"The accuracy achieved using Desicion Tree is: \"+str(score_dt)+\"%\")"
   ]
  },
  {
   "cell_type": "markdown",
   "id": "d40307ed",
   "metadata": {},
   "source": [
    "# Make a Predictive System"
   ]
  },
  {
   "cell_type": "code",
   "execution_count": 94,
   "id": "467b1c63",
   "metadata": {},
   "outputs": [
    {
     "name": "stdout",
     "output_type": "stream",
     "text": [
      "[[ 0.04601433  0.25367803  0.87340925 -0.03365099  1.65149133  0.39439164\n",
      "  -0.72747502 -0.87137393]\n",
      " [-0.84488505  0.03459802 -0.26394125  0.71908574  0.66164119  0.39439164\n",
      "   0.66479969 -0.27575966]\n",
      " [-0.84488505 -0.05929342 -1.29789624  1.66000666 -0.14586813  0.44515934\n",
      "  -0.5794892  -0.70119842]\n",
      " [-0.54791859 -0.65393918 -0.16054575 -0.03365099  0.08857006  0.1151693\n",
      "   1.19332046 -0.44593516]\n",
      " [ 1.23388019  1.88112959 -0.05715025  0.96999799  3.60514291 -0.24020459\n",
      "   0.43225055  2.27687294]\n",
      " [-0.54791859 -1.43636781 -0.26394125  0.21726125 -0.2153313  -0.29097229\n",
      "  -0.30767852 -0.0204964 ]\n",
      " [-1.14185152 -0.09059057  0.77001375  1.66000666  1.30417549  1.75242756\n",
      "   0.23896296 -0.19067191]\n",
      " [ 0.63994726 -0.49745345  0.56322275  0.4681735  -0.69289057  0.0644016\n",
      "   1.22654177 -0.61611067]\n",
      " [ 3.31264542  0.47275805  0.04624525  0.71908574  0.26222798  0.64823013\n",
      "  -0.96304428  0.83038113]\n",
      " [-0.84488505 -0.46615631  0.04624525  0.4681735   0.47930038  0.28016432\n",
      "  -0.99626558 -0.95646168]\n",
      " [ 0.04601433  0.03459802 -0.05715025 -1.28821221 -0.69289057  0.38169971\n",
      "  -0.23519567 -0.36084741]\n",
      " [ 0.63994726  1.41167241  0.25303625 -1.28821221 -0.69289057 -0.68442195\n",
      "  -0.50700636  2.78739945]\n",
      " [-0.84488505 -3.78365371  0.25303625 -0.03365099 -0.49318397 -0.54481078\n",
      "  -0.52210695 -1.04154944]\n",
      " [-1.14185152 -0.81042491  0.8217115   0.27998931 -0.38030632  0.6863059\n",
      "  -0.67915312 -0.78628618]\n",
      " [-0.54791859  1.16129525  1.08020025 -1.28821221 -0.69289057 -0.04982572\n",
      "   1.0060731   2.78739945]\n",
      " [-0.54791859 -2.03101358 -0.67752325  0.4681735  -0.30216026 -0.98902814\n",
      "  -0.42244303 -0.95646168]\n",
      " [ 1.23388019 -0.34096773  0.35643175 -1.28821221 -0.69289057 -0.53211885\n",
      "  -0.70935431  2.10669743]\n",
      " [-0.84488505  0.12848945 -0.98770975  1.22091023  0.75715305  0.165937\n",
      "   1.48023173 -0.44593516]\n",
      " [-0.84488505 -0.74783062  0.04624525  1.22091023 -0.69289057  0.77514938\n",
      "  -0.76673656 -0.27575966]\n",
      " [ 3.90657835  1.31778097  0.14964075  1.28363829  0.29695956  1.13052326\n",
      "   1.04231453  1.17073215]\n",
      " [-1.14185152 -0.09059057 -0.26394125  0.15453319  0.07988716 -4.06047387\n",
      "   3.802703   -1.04154944]\n",
      " [ 2.12477957 -0.30967058  0.77001375  1.22091023 -0.69289057  1.87934681\n",
      "   1.36848734  1.00055664]\n",
      " [-0.84488505 -0.59134489  0.25303625 -1.28821221 -0.69289057  0.95283632\n",
      "  -0.54022766  0.74529338]\n",
      " [-0.84488505 -0.15318486  0.04624525  0.4681735  -0.69289057 -0.58288655\n",
      "  -0.80901822 -1.04154944]\n",
      " [-0.54791859  0.03459802 -0.88431425  1.40909441  0.67900698  0.53400281\n",
      "   1.03929441 -0.44593516]\n",
      " [ 0.3429808   0.09719231  0.25303625 -1.28821221 -0.69289057  0.25478047\n",
      "  -0.76069632  0.40494237]\n",
      " [-1.14185152  0.44146091 -0.05715025  1.34636635  1.47783341  1.30821021\n",
      "  -0.32277912 -0.78628618]\n",
      " [-0.84488505 -1.31117923 -0.47073225  1.34636635 -0.27611157  1.4605133\n",
      "   0.62251803 -0.87137393]\n",
      " [-1.14185152 -0.12188771 -3.57259724 -1.28821221 -0.69289057  0.22939662\n",
      "   1.38962817  0.91546889]\n",
      " [-1.14185152 -1.4989621  -3.57259724 -1.28821221 -0.69289057 -1.3824778\n",
      "  -0.39224185 -0.70119842]\n",
      " [ 1.82781311 -0.84172205  0.14964075 -0.15910711 -0.69289057 -1.1286393\n",
      "   0.37184818  1.93652192]\n",
      " [ 0.63994726 -3.78365371 -0.05715025  1.28363829 -0.69289057  0.8893767\n",
      "   0.77050385  0.66020563]\n",
      " [-1.14185152  1.38037527  0.35643175  1.40909441  1.52124789  2.01895798\n",
      "  -0.6429117  -0.61611067]\n",
      " [-0.84488505 -0.81042491  0.25303625  0.02907707 -0.05903917 -0.77326542\n",
      "   0.60741744  0.23476686]\n",
      " [ 1.82781311  0.84832379  0.77001375  1.72273472  1.36495576  0.71168975\n",
      "   1.59801636  1.51108316]\n",
      " [-1.14185152  1.84983245  0.45982725  2.66365564 -0.57133003  3.4785293\n",
      "   5.88356477 -0.70119842]\n",
      " [-0.25095213  0.56664949 -0.78091875 -1.28821221 -0.69289057 -0.81134119\n",
      "  -0.21103473 -0.95646168]\n",
      " [-0.25095213 -0.46615631 -0.78091875  0.02907707  0.67900698 -0.13866919\n",
      "  -0.54324778 -0.78628618]\n",
      " [ 0.93691372  0.66054092  1.08020025  0.21726125  3.47489947 -0.20212881\n",
      "  -1.03854724  0.83038113]\n",
      " [ 0.93691372  1.25518668  0.87340925 -1.28821221 -0.69289057 -0.20212881\n",
      "  -0.92680285  1.17073215]\n",
      " [-0.84488505  2.44447821  0.35643175  1.40909441 -0.69289057  1.38436175\n",
      "   2.784923   -0.95646168]\n",
      " [-1.14185152  0.34756947  0.45982725 -1.28821221 -0.69289057  0.05170968\n",
      "  -0.23821579 -1.04154944]\n",
      " [ 0.3429808   0.03459802  0.87340925 -1.28821221 -0.69289057  0.34362394\n",
      "  -0.54928802 -0.0204964 ]\n",
      " [-1.14185152  0.5040552  -0.05715025 -0.41001936  0.59217802 -0.91287659\n",
      "  -0.99324546 -1.04154944]\n",
      " [ 1.53084665 -0.99820778 -0.36733675 -1.28821221 -0.69289057 -1.20479085\n",
      "  -0.99626558 -0.0204964 ]\n",
      " [-0.84488505 -0.09059057 -0.57412775  0.96999799  0.12330164  0.165937\n",
      "  -0.63687146 -0.87137393]\n",
      " [ 0.63994726  0.06589516  0.14964075  1.53455054  1.30417549  0.20401277\n",
      "   0.78862456  0.06459135]\n",
      " [-0.25095213 -0.30967058 -0.67752325  1.15818217 -0.69289057 -0.24020459\n",
      "   0.25708367 -0.27575966]\n",
      " [ 0.93691372  0.66054092 -0.47073225  0.7818138   0.95685965 -0.40519961\n",
      "   0.6496991   2.36196069]\n",
      " [-0.84488505 -0.37226487 -0.57412775 -0.15910711  0.31432535 -0.44327538\n",
      "  -0.76371644 -0.95646168]\n",
      " [-0.25095213  1.16129525  0.35643175  0.96999799  1.43441893 -0.04982572\n",
      "   1.14499856 -0.44593516]\n",
      " [ 0.3429808  -1.02950492 -0.16054575  0.02907707 -0.49318397 -0.96364429\n",
      "  -0.39224185 -0.27575966]\n",
      " [ 1.53084665  0.75443236  0.97680475  0.84454186  0.73978725 -0.21482074\n",
      "   0.90338907  1.68125866]\n",
      " [ 0.3429808  -0.77912776  0.25303625 -0.15910711 -0.11113655  0.20401277\n",
      "   1.58593589  0.83038113]\n",
      " [ 0.63994726 -0.71653347 -0.57412775  0.7818138   0.95685965  0.25478047\n",
      "  -0.1264714   0.83038113]\n",
      " [ 0.3429808  -1.34247638 -1.09110524 -1.28821221 -0.69289057  0.2167047\n",
      "   0.55003518 -0.70119842]\n",
      " [ 0.04601433  0.94221523  1.08020025  1.09545411 -0.69289057 -0.29097229\n",
      "  -0.53720754  0.23476686]\n",
      " [-1.14185152 -0.5287506   0.35643175 -1.28821221 -0.69289057 -1.72515976\n",
      "   0.33258664 -0.53102292]\n",
      " [-1.14185152  0.25367803  2.11415525  1.5972786   0.4358859   4.45580749\n",
      "  -0.46170458 -0.61611067]\n",
      " [-1.14185152  0.53535234 -3.57259724 -1.28821221 -0.69289057  0.54669473\n",
      "   1.39264829 -0.70119842]\n",
      " [ 0.93691372 -1.8432307   0.45982725 -1.28821221 -0.69289057  0.07709353\n",
      "  -0.24425603  0.66020563]\n",
      " [ 1.82781311  0.56664949  0.56322275 -1.28821221 -0.69289057 -0.62096232\n",
      "   2.92686858  2.02160968]\n",
      " [ 2.42174604 -0.65393918  0.77001375  0.7818138   0.2188135  -0.25289651\n",
      "   0.04869548  1.08564439]\n",
      " [-0.84488505 -0.81042491 -0.47073225 -0.15910711 -0.18928261 -1.02710391\n",
      "  -0.63989158 -0.95646168]\n",
      " [-0.84488505 -0.74783062 -0.05715025  0.02907707 -0.69289057 -0.6082704\n",
      "   1.88190752 -0.95646168]\n",
      " [-1.14185152 -0.65393918  0.97680475  2.47547145  0.26222798  1.87934681\n",
      "   1.48023173 -0.19067191]\n",
      " [-0.84488505  0.69183807  0.77001375  0.15453319  1.99880716  1.32090213\n",
      "   1.82452526 -0.95646168]\n",
      " [-1.14185152  0.25367803  0.56322275 -1.28821221 -0.69289057 -0.10059342\n",
      "   0.698021   -0.36084741]\n",
      " [-0.54791859  0.72313521 -0.57412775  0.7818138   0.47930038 -0.04982572\n",
      "  -0.15063235 -0.70119842]\n",
      " [ 1.23388019 -0.68523633  0.77001375 -1.28821221 -0.69289057  0.43246741\n",
      "  -0.25331639  1.4259954 ]\n",
      " [-1.14185152 -0.24707629  0.56322275 -0.28456324 -0.69289057 -0.12597727\n",
      "   1.21446129 -1.04154944]\n",
      " [ 2.42174604 -0.46615631  0.56322275 -1.28821221 -0.69289057 -1.06517968\n",
      "  -1.01136617  0.91546889]\n",
      " [-0.25095213 -0.30967058  1.08020025 -0.53547548 -0.01562469 -0.4559673\n",
      "   0.06983631 -0.36084741]\n",
      " [-0.25095213  0.1597866   0.97680475  1.28363829  1.34758997  0.92745247\n",
      "   0.70104112 -0.53102292]\n",
      " [-0.84488505 -0.12188771  0.97680475  0.21726125  0.56612934  0.31824009\n",
      "  -0.20801461  0.57511787]\n",
      " [-0.84488505 -1.24858494  0.14964075 -0.15910711 -0.34557474 -0.68442195\n",
      "  -0.57042885 -0.78628618]\n",
      " [-0.84488505  1.4742667   0.97680475  0.53090156 -0.69289057  0.38169971\n",
      "   1.30808497  1.59617091]]\n"
     ]
    }
   ],
   "source": [
    "print(X_test)"
   ]
  },
  {
   "cell_type": "code",
   "execution_count": 95,
   "id": "657cbc33",
   "metadata": {},
   "outputs": [
    {
     "name": "stdout",
     "output_type": "stream",
     "text": [
      "[[-0.84488505  0.81702665  1.28699125  1.28363829 -0.69289057  2.19664492\n",
      "  -0.34391995 -0.53102292]]\n",
      "[1]\n",
      "The person is diabetic\n"
     ]
    },
    {
     "name": "stderr",
     "output_type": "stream",
     "text": [
      "C:\\ProgramData\\anaconda3\\Lib\\site-packages\\sklearn\\base.py:464: UserWarning: X does not have valid feature names, but StandardScaler was fitted with feature names\n",
      "  warnings.warn(\n"
     ]
    }
   ],
   "source": [
    "input_data = (1,147,94,41,0,49.3,0.358,27)\n",
    "\n",
    "# changing the input_data to numpy array\n",
    "input_data_as_numpy_array = np.asarray(input_data)\n",
    "\n",
    "# reshape the array as we are predicting for one instance\n",
    "input_data_reshaped = input_data_as_numpy_array.reshape(1,-1)\n",
    "\n",
    "# standardize the input data\n",
    "std_data = scaler.transform(input_data_reshaped)\n",
    "print(std_data)\n",
    "\n",
    "prediction = classifier.predict(std_data)\n",
    "print(prediction)\n",
    "\n",
    "if (prediction[0] == 0):\n",
    "  print('The person is not diabetic')\n",
    "else:\n",
    "  print('The person is diabetic')"
   ]
  }
 ],
 "metadata": {
  "kernelspec": {
   "display_name": "Python 3 (ipykernel)",
   "language": "python",
   "name": "python3"
  },
  "language_info": {
   "codemirror_mode": {
    "name": "ipython",
    "version": 3
   },
   "file_extension": ".py",
   "mimetype": "text/x-python",
   "name": "python",
   "nbconvert_exporter": "python",
   "pygments_lexer": "ipython3",
   "version": "3.11.5"
  }
 },
 "nbformat": 4,
 "nbformat_minor": 5
}
